{
 "cells": [
  {
   "cell_type": "code",
   "execution_count": 1,
   "metadata": {},
   "outputs": [],
   "source": [
    "import pandas as pd"
   ]
  },
  {
   "cell_type": "code",
   "execution_count": 2,
   "metadata": {},
   "outputs": [],
   "source": [
    "df = pd.read_csv(\"processed_sample_pdfs.csv\")"
   ]
  },
  {
   "cell_type": "code",
   "execution_count": 3,
   "metadata": {},
   "outputs": [
    {
     "data": {
      "text/html": [
       "<div>\n",
       "<style scoped>\n",
       "    .dataframe tbody tr th:only-of-type {\n",
       "        vertical-align: middle;\n",
       "    }\n",
       "\n",
       "    .dataframe tbody tr th {\n",
       "        vertical-align: top;\n",
       "    }\n",
       "\n",
       "    .dataframe thead th {\n",
       "        text-align: right;\n",
       "    }\n",
       "</style>\n",
       "<table border=\"1\" class=\"dataframe\">\n",
       "  <thead>\n",
       "    <tr style=\"text-align: right;\">\n",
       "      <th></th>\n",
       "      <th>label</th>\n",
       "      <th>score</th>\n",
       "      <th>xmin</th>\n",
       "      <th>ymin</th>\n",
       "      <th>xmax</th>\n",
       "      <th>ymax</th>\n",
       "      <th>filename</th>\n",
       "    </tr>\n",
       "  </thead>\n",
       "  <tbody>\n",
       "    <tr>\n",
       "      <th>0</th>\n",
       "      <td>creditcard</td>\n",
       "      <td>0.998466</td>\n",
       "      <td>233</td>\n",
       "      <td>627</td>\n",
       "      <td>1470</td>\n",
       "      <td>690</td>\n",
       "      <td>Enhanced Public Housing Contents Insurance (Ju...</td>\n",
       "    </tr>\n",
       "    <tr>\n",
       "      <th>1</th>\n",
       "      <td>creditcard</td>\n",
       "      <td>0.998435</td>\n",
       "      <td>389</td>\n",
       "      <td>677</td>\n",
       "      <td>1422</td>\n",
       "      <td>745</td>\n",
       "      <td>Enhanced Public Housing Contents Insurance (Ju...</td>\n",
       "    </tr>\n",
       "    <tr>\n",
       "      <th>2</th>\n",
       "      <td>creditcard</td>\n",
       "      <td>0.976886</td>\n",
       "      <td>326</td>\n",
       "      <td>1035</td>\n",
       "      <td>783</td>\n",
       "      <td>1089</td>\n",
       "      <td>Enhanced Public Housing Contents Insurance (Ju...</td>\n",
       "    </tr>\n",
       "    <tr>\n",
       "      <th>3</th>\n",
       "      <td>creditcard</td>\n",
       "      <td>0.513348</td>\n",
       "      <td>263</td>\n",
       "      <td>627</td>\n",
       "      <td>943</td>\n",
       "      <td>686</td>\n",
       "      <td>Enhanced Public Housing Contents Insurance (Ju...</td>\n",
       "    </tr>\n",
       "    <tr>\n",
       "      <th>4</th>\n",
       "      <td>creditcard</td>\n",
       "      <td>0.999243</td>\n",
       "      <td>834</td>\n",
       "      <td>1176</td>\n",
       "      <td>1284</td>\n",
       "      <td>1215</td>\n",
       "      <td>Corporate Assist Form (Final)_6 June 2014_cred...</td>\n",
       "    </tr>\n",
       "    <tr>\n",
       "      <th>5</th>\n",
       "      <td>creditcard</td>\n",
       "      <td>0.958037</td>\n",
       "      <td>302</td>\n",
       "      <td>1169</td>\n",
       "      <td>664</td>\n",
       "      <td>1216</td>\n",
       "      <td>Corporate Assist Form (Final)_6 June 2014_cred...</td>\n",
       "    </tr>\n",
       "    <tr>\n",
       "      <th>6</th>\n",
       "      <td>creditcard</td>\n",
       "      <td>0.999999</td>\n",
       "      <td>1790</td>\n",
       "      <td>726</td>\n",
       "      <td>2823</td>\n",
       "      <td>785</td>\n",
       "      <td>Commercial AutoPlan Inner_creditcard_1.pdf</td>\n",
       "    </tr>\n",
       "  </tbody>\n",
       "</table>\n",
       "</div>"
      ],
      "text/plain": [
       "        label     score  xmin  ymin  xmax  ymax  \\\n",
       "0  creditcard  0.998466   233   627  1470   690   \n",
       "1  creditcard  0.998435   389   677  1422   745   \n",
       "2  creditcard  0.976886   326  1035   783  1089   \n",
       "3  creditcard  0.513348   263   627   943   686   \n",
       "4  creditcard  0.999243   834  1176  1284  1215   \n",
       "5  creditcard  0.958037   302  1169   664  1216   \n",
       "6  creditcard  0.999999  1790   726  2823   785   \n",
       "\n",
       "                                            filename  \n",
       "0  Enhanced Public Housing Contents Insurance (Ju...  \n",
       "1  Enhanced Public Housing Contents Insurance (Ju...  \n",
       "2  Enhanced Public Housing Contents Insurance (Ju...  \n",
       "3  Enhanced Public Housing Contents Insurance (Ju...  \n",
       "4  Corporate Assist Form (Final)_6 June 2014_cred...  \n",
       "5  Corporate Assist Form (Final)_6 June 2014_cred...  \n",
       "6         Commercial AutoPlan Inner_creditcard_1.pdf  "
      ]
     },
     "execution_count": 3,
     "metadata": {},
     "output_type": "execute_result"
    }
   ],
   "source": [
    "df"
   ]
  },
  {
   "cell_type": "code",
   "execution_count": 4,
   "metadata": {},
   "outputs": [],
   "source": [
    "grouped_result_dataframe = df.groupby('filename')"
   ]
  },
  {
   "cell_type": "code",
   "execution_count": 5,
   "metadata": {},
   "outputs": [
    {
     "data": {
      "text/plain": [
       "<pandas.core.groupby.groupby.DataFrameGroupBy object at 0x7fac73add5f8>"
      ]
     },
     "execution_count": 5,
     "metadata": {},
     "output_type": "execute_result"
    }
   ],
   "source": [
    "grouped_result_dataframe"
   ]
  },
  {
   "cell_type": "code",
   "execution_count": 11,
   "metadata": {},
   "outputs": [
    {
     "name": "stdout",
     "output_type": "stream",
     "text": [
      "Commercial AutoPlan Inner_creditcard_1.pdf 1\n",
      "Corporate Assist Form (Final)_6 June 2014_creditcard_1.pdf 2\n",
      "Enhanced Public Housing Contents Insurance (Jul 2017)_creditcard_1.pdf 4\n"
     ]
    }
   ],
   "source": [
    "for filename, group in grouped_result_dataframe:\n",
    "    print(filename, len(group))\n",
    "    "
   ]
  },
  {
   "cell_type": "code",
   "execution_count": null,
   "metadata": {},
   "outputs": [],
   "source": []
  }
 ],
 "metadata": {
  "kernelspec": {
   "display_name": "Python 3",
   "language": "python",
   "name": "python3"
  },
  "language_info": {
   "codemirror_mode": {
    "name": "ipython",
    "version": 3
   },
   "file_extension": ".py",
   "mimetype": "text/x-python",
   "name": "python",
   "nbconvert_exporter": "python",
   "pygments_lexer": "ipython3",
   "version": "3.6.8"
  }
 },
 "nbformat": 4,
 "nbformat_minor": 2
}
