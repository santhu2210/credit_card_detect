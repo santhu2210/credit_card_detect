{
 "cells": [
  {
   "cell_type": "code",
   "execution_count": 14,
   "metadata": {},
   "outputs": [],
   "source": [
    "import sys \n",
    "sys.path.append('/home/shantakumar/Projects/robo_reader_FE_dev/appserver')\n",
    "import cv2\n",
    "import glob\n",
    "import matplotlib.pyplot as plt\n",
    "from multiprocessing.dummy import Pool as ThreadPool\n",
    "import os\n",
    "import pickle\n",
    "import numpy\n",
    "from tqdm import tqdm\n",
    "import random\n",
    "import pandas as pd\n",
    "import tensorflow as tf\n",
    "import grpc\n",
    "from tensorflow_serving.apis import predict_pb2\n",
    "from tensorflow_serving.apis import prediction_service_pb2_grpc #prediction_service_pb2\n",
    "import numpy as np\n",
    "import random"
   ]
  },
  {
   "cell_type": "code",
   "execution_count": 15,
   "metadata": {},
   "outputs": [],
   "source": [
    "def _tf_serving_client(image, ip, port, model_name, signature_name, input_name, timeout):\n",
    "    assert len(image.shape) == 3, \"image must be of shape (r,c,channels)\"\n",
    "    input_image = np.expand_dims(image, axis=0)\n",
    "    channel = grpc.insecure_channel('{}:{}'.format(ip, port))\n",
    "    stub = prediction_service_pb2_grpc.PredictionServiceStub(channel)  # PredictionService_stub\n",
    "    request = predict_pb2.PredictRequest()\n",
    "    request.model_spec.name = model_name\n",
    "    request.model_spec.signature_name = signature_name\n",
    "    # st_time = time()\n",
    "    request.inputs['{}'.format(input_name)].CopyFrom(tf.contrib.util.make_tensor_proto(input_image, shape=input_image.shape))\n",
    "    # print(\"Time taken to create image tensor is {}\".format(time()-st_time))\n",
    "\n",
    "    # p_time = time()\n",
    "    result = stub.Predict(request, timeout)\n",
    "    # print(\"Time taken for prediction: {}\".format(time()-p_time))\n",
    "    return result\n"
   ]
  },
  {
   "cell_type": "code",
   "execution_count": 16,
   "metadata": {},
   "outputs": [],
   "source": [
    "def _tf_ODAPI_client(image, ip, port, model_name, signature_name=\"detection_signature\", input_name=\"inputs\", timeout=10, num_predictions=300):\n",
    "    result = _tf_serving_client(image, ip, port, model_name, signature_name, input_name, timeout)\n",
    "    # boxes are ymin.xmin,ymax,xmax\n",
    "    boxes = np.array(result.outputs['detection_boxes'].float_val)\n",
    "    classes = np.array(result.outputs['detection_classes'].float_val)\n",
    "    scores = np.array(result.outputs['detection_scores'].float_val)\n",
    "    boxes = boxes.reshape((num_predictions, 4))\n",
    "    classes = classes.astype(np.int32)\n",
    "    scores = np.squeeze(scores)\n",
    "\n",
    "    return (boxes, classes, scores)\n"
   ]
  },
  {
   "cell_type": "code",
   "execution_count": 17,
   "metadata": {},
   "outputs": [],
   "source": [
    "def check_client(image, server_ip, port, label_map, model_name, filename, score_thresh=0.5, normalize=True):\n",
    "    \"\"\"Function which takes an image and returns predictions using Object detection model hosted using TF-Serving\n",
    "\n",
    "    Arguments:\n",
    "        image (np.array): image as a numpy array. No Default\n",
    "        server_ip (str): TF-serving IP. No Default\n",
    "        port (str/int): TF-serving port. No Default\n",
    "        label_map (dict): Labelmap dict. eg: {1:\"cat\", 2:\"dog\"}. No Default\n",
    "        model_name (str): TF-serving hosted model name. No Default\n",
    "        score_thresh (float): Minimum threshold to consider as a prediction. Default 0.5\n",
    "        normalize (bool): Whether to normalize the predicted coordinates. Default True\n",
    "\n",
    "    Returns:\n",
    "        A DataFrame with the following column names:\n",
    "        filename, xmin, ymin, xmax, ymax, score, label\n",
    "    \"\"\"\n",
    "    boxes, classes, scores = _tf_ODAPI_client(image=image, ip=server_ip, port=port, model_name=model_name)\n",
    "    im_height, im_width = image.shape[:2]\n",
    "    probs_list = []\n",
    "    x1_list = []\n",
    "    x2_list = []\n",
    "    y1_list = []\n",
    "    y2_list = []\n",
    "    classes_list = []\n",
    "    for box, score, clss in zip(boxes, scores, classes):\n",
    "        if score >= score_thresh:\n",
    "            box = tuple(box.tolist())\n",
    "            ymin, xmin, ymax, xmax = box\n",
    "            assert ymin < ymax and xmin < xmax\n",
    "            if not normalize:\n",
    "                x1, x2, y1, y2 = (int(xmin * im_width), int(xmax * im_width),\n",
    "                                  int(ymin * im_height), int(ymax * im_height)\n",
    "                                  )\n",
    "            else:\n",
    "                x1, x2, y1, y2 = xmin, xmax, ymin, ymax\n",
    "            x1_list.append(x1)\n",
    "            x2_list.append(x2)prediction_service_pb2_grpc\n",
    "            y1_list.append(y1)\n",
    "            y2_list.append(y2)\n",
    "            probs_list.append(score)\n",
    "            classes_list.append(label_map[clss])\n",
    "    df = pd.DataFrame({\"label\": classes_list,\n",
    "                       \"score\": probs_list,\n",
    "                       \"xmin\": x1_list,\n",
    "                       \"ymin\": y1_list,\n",
    "                       \"xmax\": x2_list,\n",
    "                       \"ymax\": y2_list,\n",
    "                       })\n",
    "    df[\"filename\"] = filename\n",
    "    return df"
   ]
  },
  {
   "cell_type": "code",
   "execution_count": 18,
   "metadata": {},
   "outputs": [],
   "source": [
    "with open(\"//home/shantakumar/Projects/credit_card_check/gpu_server/creditcard_label.pkl\", \"rb\") as f:\n",
    "    labelmap = pickle.load(f)"
   ]
  },
  {
   "cell_type": "code",
   "execution_count": 19,
   "metadata": {},
   "outputs": [
    {
     "data": {
      "text/plain": [
       "{1: 'creditcard'}"
      ]
     },
     "execution_count": 19,
     "metadata": {},
     "output_type": "execute_result"
    }
   ],
   "source": [
    "labelmap"
   ]
  },
  {
   "cell_type": "code",
   "execution_count": 24,
   "metadata": {},
   "outputs": [],
   "source": [
    "def get_prediction(image, filename):\n",
    "    return check_client(image=image, server_ip=\"172.24.173.84\", port=\"8901\",\n",
    "                           label_map=labelmap, model_name=\"inception_v3\", filename=filename,\n",
    "                           score_thresh=0.65, normalize=False)"
   ]
  },
  {
   "cell_type": "code",
   "execution_count": 33,
   "metadata": {},
   "outputs": [],
   "source": [
    "image_path = \"/home/shantakumar/Projects/credit_card_check/test_data/sample_jpg_png/page-11.jpg\"\n",
    "data = cv2.imread(image_path)"
   ]
  },
  {
   "cell_type": "code",
   "execution_count": 34,
   "metadata": {},
   "outputs": [
    {
     "data": {
      "text/plain": [
       "5850"
      ]
     },
     "execution_count": 34,
     "metadata": {},
     "output_type": "execute_result"
    }
   ],
   "source": [
    "len(data)"
   ]
  },
  {
   "cell_type": "code",
   "execution_count": 35,
   "metadata": {},
   "outputs": [],
   "source": [
    "df = get_prediction(image=data, filename=os.path.basename(image_path))"
   ]
  },
  {
   "cell_type": "code",
   "execution_count": 39,
   "metadata": {},
   "outputs": [
    {
     "data": {
      "text/plain": [
       "<bound method NDFrame.groupby of         label     score  xmin  ymin  xmax  ymax     filename\n",
       "0  creditcard  0.999969   590  3226  2607  3365  page-11.jpg\n",
       "1  creditcard  0.999396  2160  3123  3729  3228  page-11.jpg>"
      ]
     },
     "execution_count": 39,
     "metadata": {},
     "output_type": "execute_result"
    }
   ],
   "source": [
    "df.groupby"
   ]
  },
  {
   "cell_type": "code",
   "execution_count": 41,
   "metadata": {},
   "outputs": [
    {
     "data": {
      "text/plain": [
       "<bound method IndexOpsMixin.value_counts of 0    creditcard\n",
       "1    creditcard\n",
       "Name: label, dtype: object>"
      ]
     },
     "execution_count": 41,
     "metadata": {},
     "output_type": "execute_result"
    }
   ],
   "source": [
    "df.label.value_counts"
   ]
  },
  {
   "cell_type": "code",
   "execution_count": null,
   "metadata": {},
   "outputs": [],
   "source": []
  }
 ],
 "metadata": {
  "kernelspec": {
   "display_name": "Python 3",
   "language": "python",
   "name": "python3"
  },
  "language_info": {
   "codemirror_mode": {
    "name": "ipython",
    "version": 3
   },
   "file_extension": ".py",
   "mimetype": "text/x-python",
   "name": "python",
   "nbconvert_exporter": "python",
   "pygments_lexer": "ipython3",
   "version": "3.6.8"
  }
 },
 "nbformat": 4,
 "nbformat_minor": 2
}
